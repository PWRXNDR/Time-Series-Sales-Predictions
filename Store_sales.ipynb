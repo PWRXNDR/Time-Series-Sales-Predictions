{
 "cells": [
  {
   "cell_type": "code",
   "execution_count": 1,
   "id": "fcb36eed-e5c7-4c78-b9f9-cb41821ced85",
   "metadata": {},
   "outputs": [
    {
     "name": "stderr",
     "output_type": "stream",
     "text": [
      "C:\\Users\\pwrxn\\miniconda3\\envs\\pytorch\\lib\\site-packages\\pandas\\core\\arrays\\masked.py:60: UserWarning: Pandas requires version '1.3.6' or newer of 'bottleneck' (version '1.3.5' currently installed).\n",
      "  from pandas.core import (\n"
     ]
    }
   ],
   "source": [
    "import pandas as pd\n",
    "import matplotlib.pyplot as plt\n",
    "import numpy as np\n",
    "import seaborn as sns; sns.set()\n",
    "from sklearn.model_selection import train_test_split"
   ]
  },
  {
   "cell_type": "code",
   "execution_count": 2,
   "id": "9a9f9468-0283-4128-ac78-69355a211f7c",
   "metadata": {},
   "outputs": [
    {
     "data": {
      "text/html": [
       "<div>\n",
       "<style scoped>\n",
       "    .dataframe tbody tr th:only-of-type {\n",
       "        vertical-align: middle;\n",
       "    }\n",
       "\n",
       "    .dataframe tbody tr th {\n",
       "        vertical-align: top;\n",
       "    }\n",
       "\n",
       "    .dataframe thead th {\n",
       "        text-align: right;\n",
       "    }\n",
       "</style>\n",
       "<table border=\"1\" class=\"dataframe\">\n",
       "  <thead>\n",
       "    <tr style=\"text-align: right;\">\n",
       "      <th></th>\n",
       "      <th>id</th>\n",
       "      <th>date</th>\n",
       "      <th>store_nbr</th>\n",
       "      <th>family</th>\n",
       "      <th>sales</th>\n",
       "      <th>onpromotion</th>\n",
       "    </tr>\n",
       "  </thead>\n",
       "  <tbody>\n",
       "    <tr>\n",
       "      <th>0</th>\n",
       "      <td>0</td>\n",
       "      <td>2013-01-01</td>\n",
       "      <td>1</td>\n",
       "      <td>AUTOMOTIVE</td>\n",
       "      <td>0.0</td>\n",
       "      <td>0</td>\n",
       "    </tr>\n",
       "    <tr>\n",
       "      <th>1</th>\n",
       "      <td>1</td>\n",
       "      <td>2013-01-01</td>\n",
       "      <td>1</td>\n",
       "      <td>BABY CARE</td>\n",
       "      <td>0.0</td>\n",
       "      <td>0</td>\n",
       "    </tr>\n",
       "    <tr>\n",
       "      <th>2</th>\n",
       "      <td>2</td>\n",
       "      <td>2013-01-01</td>\n",
       "      <td>1</td>\n",
       "      <td>BEAUTY</td>\n",
       "      <td>0.0</td>\n",
       "      <td>0</td>\n",
       "    </tr>\n",
       "    <tr>\n",
       "      <th>3</th>\n",
       "      <td>3</td>\n",
       "      <td>2013-01-01</td>\n",
       "      <td>1</td>\n",
       "      <td>BEVERAGES</td>\n",
       "      <td>0.0</td>\n",
       "      <td>0</td>\n",
       "    </tr>\n",
       "    <tr>\n",
       "      <th>4</th>\n",
       "      <td>4</td>\n",
       "      <td>2013-01-01</td>\n",
       "      <td>1</td>\n",
       "      <td>BOOKS</td>\n",
       "      <td>0.0</td>\n",
       "      <td>0</td>\n",
       "    </tr>\n",
       "  </tbody>\n",
       "</table>\n",
       "</div>"
      ],
      "text/plain": [
       "   id        date  store_nbr      family  sales  onpromotion\n",
       "0   0  2013-01-01          1  AUTOMOTIVE    0.0            0\n",
       "1   1  2013-01-01          1   BABY CARE    0.0            0\n",
       "2   2  2013-01-01          1      BEAUTY    0.0            0\n",
       "3   3  2013-01-01          1   BEVERAGES    0.0            0\n",
       "4   4  2013-01-01          1       BOOKS    0.0            0"
      ]
     },
     "execution_count": 2,
     "metadata": {},
     "output_type": "execute_result"
    }
   ],
   "source": [
    "train= pd.read_csv('train.csv')\n",
    "train.head()"
   ]
  },
  {
   "cell_type": "code",
   "execution_count": 3,
   "id": "9a263b36-4311-4bef-a77b-569719619200",
   "metadata": {},
   "outputs": [
    {
     "data": {
      "text/html": [
       "<div>\n",
       "<style scoped>\n",
       "    .dataframe tbody tr th:only-of-type {\n",
       "        vertical-align: middle;\n",
       "    }\n",
       "\n",
       "    .dataframe tbody tr th {\n",
       "        vertical-align: top;\n",
       "    }\n",
       "\n",
       "    .dataframe thead th {\n",
       "        text-align: right;\n",
       "    }\n",
       "</style>\n",
       "<table border=\"1\" class=\"dataframe\">\n",
       "  <thead>\n",
       "    <tr style=\"text-align: right;\">\n",
       "      <th></th>\n",
       "      <th>id</th>\n",
       "      <th>date</th>\n",
       "      <th>store_nbr</th>\n",
       "      <th>family</th>\n",
       "      <th>sales</th>\n",
       "      <th>onpromotion</th>\n",
       "      <th>city</th>\n",
       "      <th>state</th>\n",
       "      <th>type_x</th>\n",
       "      <th>cluster</th>\n",
       "      <th>dcoilwtico</th>\n",
       "      <th>type_y</th>\n",
       "      <th>locale</th>\n",
       "      <th>locale_name</th>\n",
       "      <th>description</th>\n",
       "      <th>transferred</th>\n",
       "    </tr>\n",
       "  </thead>\n",
       "  <tbody>\n",
       "    <tr>\n",
       "      <th>0</th>\n",
       "      <td>0</td>\n",
       "      <td>2013-01-01</td>\n",
       "      <td>1</td>\n",
       "      <td>AUTOMOTIVE</td>\n",
       "      <td>0.0</td>\n",
       "      <td>0</td>\n",
       "      <td>Quito</td>\n",
       "      <td>Pichincha</td>\n",
       "      <td>D</td>\n",
       "      <td>13</td>\n",
       "      <td>NaN</td>\n",
       "      <td>Holiday</td>\n",
       "      <td>National</td>\n",
       "      <td>Ecuador</td>\n",
       "      <td>Primer dia del ano</td>\n",
       "      <td>False</td>\n",
       "    </tr>\n",
       "    <tr>\n",
       "      <th>1</th>\n",
       "      <td>1</td>\n",
       "      <td>2013-01-01</td>\n",
       "      <td>1</td>\n",
       "      <td>BABY CARE</td>\n",
       "      <td>0.0</td>\n",
       "      <td>0</td>\n",
       "      <td>Quito</td>\n",
       "      <td>Pichincha</td>\n",
       "      <td>D</td>\n",
       "      <td>13</td>\n",
       "      <td>NaN</td>\n",
       "      <td>Holiday</td>\n",
       "      <td>National</td>\n",
       "      <td>Ecuador</td>\n",
       "      <td>Primer dia del ano</td>\n",
       "      <td>False</td>\n",
       "    </tr>\n",
       "    <tr>\n",
       "      <th>2</th>\n",
       "      <td>2</td>\n",
       "      <td>2013-01-01</td>\n",
       "      <td>1</td>\n",
       "      <td>BEAUTY</td>\n",
       "      <td>0.0</td>\n",
       "      <td>0</td>\n",
       "      <td>Quito</td>\n",
       "      <td>Pichincha</td>\n",
       "      <td>D</td>\n",
       "      <td>13</td>\n",
       "      <td>NaN</td>\n",
       "      <td>Holiday</td>\n",
       "      <td>National</td>\n",
       "      <td>Ecuador</td>\n",
       "      <td>Primer dia del ano</td>\n",
       "      <td>False</td>\n",
       "    </tr>\n",
       "    <tr>\n",
       "      <th>3</th>\n",
       "      <td>3</td>\n",
       "      <td>2013-01-01</td>\n",
       "      <td>1</td>\n",
       "      <td>BEVERAGES</td>\n",
       "      <td>0.0</td>\n",
       "      <td>0</td>\n",
       "      <td>Quito</td>\n",
       "      <td>Pichincha</td>\n",
       "      <td>D</td>\n",
       "      <td>13</td>\n",
       "      <td>NaN</td>\n",
       "      <td>Holiday</td>\n",
       "      <td>National</td>\n",
       "      <td>Ecuador</td>\n",
       "      <td>Primer dia del ano</td>\n",
       "      <td>False</td>\n",
       "    </tr>\n",
       "    <tr>\n",
       "      <th>4</th>\n",
       "      <td>4</td>\n",
       "      <td>2013-01-01</td>\n",
       "      <td>1</td>\n",
       "      <td>BOOKS</td>\n",
       "      <td>0.0</td>\n",
       "      <td>0</td>\n",
       "      <td>Quito</td>\n",
       "      <td>Pichincha</td>\n",
       "      <td>D</td>\n",
       "      <td>13</td>\n",
       "      <td>NaN</td>\n",
       "      <td>Holiday</td>\n",
       "      <td>National</td>\n",
       "      <td>Ecuador</td>\n",
       "      <td>Primer dia del ano</td>\n",
       "      <td>False</td>\n",
       "    </tr>\n",
       "  </tbody>\n",
       "</table>\n",
       "</div>"
      ],
      "text/plain": [
       "   id       date  store_nbr      family  sales  onpromotion   city      state  \\\n",
       "0   0 2013-01-01          1  AUTOMOTIVE    0.0            0  Quito  Pichincha   \n",
       "1   1 2013-01-01          1   BABY CARE    0.0            0  Quito  Pichincha   \n",
       "2   2 2013-01-01          1      BEAUTY    0.0            0  Quito  Pichincha   \n",
       "3   3 2013-01-01          1   BEVERAGES    0.0            0  Quito  Pichincha   \n",
       "4   4 2013-01-01          1       BOOKS    0.0            0  Quito  Pichincha   \n",
       "\n",
       "  type_x  cluster  dcoilwtico   type_y    locale locale_name  \\\n",
       "0      D       13         NaN  Holiday  National     Ecuador   \n",
       "1      D       13         NaN  Holiday  National     Ecuador   \n",
       "2      D       13         NaN  Holiday  National     Ecuador   \n",
       "3      D       13         NaN  Holiday  National     Ecuador   \n",
       "4      D       13         NaN  Holiday  National     Ecuador   \n",
       "\n",
       "          description transferred  \n",
       "0  Primer dia del ano       False  \n",
       "1  Primer dia del ano       False  \n",
       "2  Primer dia del ano       False  \n",
       "3  Primer dia del ano       False  \n",
       "4  Primer dia del ano       False  "
      ]
     },
     "execution_count": 3,
     "metadata": {},
     "output_type": "execute_result"
    }
   ],
   "source": [
    "# Load datasets\n",
    "test = pd.read_csv('test.csv')\n",
    "stores = pd.read_csv('stores.csv')\n",
    "oil = pd.read_csv('oil.csv')\n",
    "holidays_events = pd.read_csv('holidays_events.csv')\n",
    "# transactions = pd.read_csv('transactions.csv')\n",
    "\n",
    "# Convert date columns to datetime type\n",
    "train['date'] = pd.to_datetime(train['date'])\n",
    "test['date'] = pd.to_datetime(test['date'])\n",
    "oil['date'] = pd.to_datetime(oil['date'])\n",
    "holidays_events['date'] = pd.to_datetime(holidays_events['date'])\n",
    "# transactions['date'] = pd.to_datetime(transactions['date'])\n",
    "\n",
    "# Merge store metadata with train and test datasets\n",
    "train = train.merge(stores, on='store_nbr', how='left')\n",
    "test = test.merge(stores, on='store_nbr', how='left')\n",
    "\n",
    "# Merge oil prices with train and test datasets\n",
    "train = train.merge(oil, on='date', how='left')\n",
    "test = test.merge(oil, on='date', how='left')\n",
    "\n",
    "# Merge holidays and events data\n",
    "# Assuming you want to include this data for each store and each date\n",
    "train = train.merge(holidays_events, on='date', how='left')\n",
    "test = test.merge(holidays_events, on='date', how='left')\n",
    "\n",
    "# Merge transactions with trian and test datasets\n",
    "# train = train.merge(transactions, on='date', how='left')\n",
    "# test = test.merge(transactions, on='date', how='left')\n",
    "\n",
    "# Inspect the merged train dataset\n",
    "train.head()"
   ]
  },
  {
   "cell_type": "code",
   "execution_count": 4,
   "id": "f2463b68-0214-4ae7-803f-99e766740834",
   "metadata": {},
   "outputs": [
    {
     "name": "stdout",
     "output_type": "stream",
     "text": [
      "<class 'pandas.core.frame.DataFrame'>\n",
      "RangeIndex: 3054348 entries, 0 to 3054347\n",
      "Data columns (total 16 columns):\n",
      " #   Column       Dtype         \n",
      "---  ------       -----         \n",
      " 0   id           int64         \n",
      " 1   date         datetime64[ns]\n",
      " 2   store_nbr    int64         \n",
      " 3   family       object        \n",
      " 4   sales        float64       \n",
      " 5   onpromotion  int64         \n",
      " 6   city         object        \n",
      " 7   state        object        \n",
      " 8   type_x       object        \n",
      " 9   cluster      int64         \n",
      " 10  dcoilwtico   float64       \n",
      " 11  type_y       object        \n",
      " 12  locale       object        \n",
      " 13  locale_name  object        \n",
      " 14  description  object        \n",
      " 15  transferred  object        \n",
      "dtypes: datetime64[ns](1), float64(2), int64(4), object(9)\n",
      "memory usage: 372.8+ MB\n"
     ]
    }
   ],
   "source": [
    "train.info()"
   ]
  },
  {
   "cell_type": "code",
   "execution_count": 5,
   "id": "4ebebeb0-61ed-4282-bb9b-ab2cd2acb5a2",
   "metadata": {},
   "outputs": [
    {
     "data": {
      "text/plain": [
       "id                   0\n",
       "date                 0\n",
       "store_nbr            0\n",
       "family               0\n",
       "sales                0\n",
       "onpromotion          0\n",
       "city                 0\n",
       "state                0\n",
       "type_x               0\n",
       "cluster              0\n",
       "dcoilwtico      955152\n",
       "type_y         2551824\n",
       "locale         2551824\n",
       "locale_name    2551824\n",
       "description    2551824\n",
       "transferred    2551824\n",
       "dtype: int64"
      ]
     },
     "execution_count": 5,
     "metadata": {},
     "output_type": "execute_result"
    }
   ],
   "source": [
    "train.isna().sum()"
   ]
  },
  {
   "cell_type": "code",
   "execution_count": 6,
   "id": "596f9900-afe7-4538-b336-70da9bdf6f7f",
   "metadata": {},
   "outputs": [],
   "source": [
    "# Forward fill or interpolate missing oil prices\n",
    "train['dcoilwtico'] = train['dcoilwtico'].bfill().ffill()  # or.interpolate()\n",
    "\n",
    "# Handling holidays/events columns\n",
    "for col in ['type_y', 'locale', 'locale_name', 'description', 'transferred']:\n",
    "    train[col] = train[col].fillna('None')\n",
    "\n",
    "# Creating a binary feature for holiday/event\n",
    "train['is_holiday_event'] = train['type_y'] != 'None'"
   ]
  },
  {
   "cell_type": "code",
   "execution_count": 7,
   "id": "146f31fd-afa1-42dc-9566-f678d0a67186",
   "metadata": {},
   "outputs": [
    {
     "data": {
      "text/plain": [
       "id                  0\n",
       "date                0\n",
       "store_nbr           0\n",
       "family              0\n",
       "sales               0\n",
       "onpromotion         0\n",
       "city                0\n",
       "state               0\n",
       "type_x              0\n",
       "cluster             0\n",
       "dcoilwtico          0\n",
       "type_y              0\n",
       "locale              0\n",
       "locale_name         0\n",
       "description         0\n",
       "transferred         0\n",
       "is_holiday_event    0\n",
       "dtype: int64"
      ]
     },
     "execution_count": 7,
     "metadata": {},
     "output_type": "execute_result"
    }
   ],
   "source": [
    "train.isna().sum()"
   ]
  },
  {
   "cell_type": "code",
   "execution_count": 8,
   "id": "3a34691f-8e1b-4fe6-a354-d918c7f8faf2",
   "metadata": {},
   "outputs": [
    {
     "data": {
      "text/plain": [
       "family\n",
       "AUTOMOTIVE                    92556\n",
       "HOME APPLIANCES               92556\n",
       "SCHOOL AND OFFICE SUPPLIES    92556\n",
       "PRODUCE                       92556\n",
       "PREPARED FOODS                92556\n",
       "POULTRY                       92556\n",
       "PLAYERS AND ELECTRONICS       92556\n",
       "PET SUPPLIES                  92556\n",
       "PERSONAL CARE                 92556\n",
       "MEATS                         92556\n",
       "MAGAZINES                     92556\n",
       "LIQUOR,WINE,BEER              92556\n",
       "LINGERIE                      92556\n",
       "LAWN AND GARDEN               92556\n",
       "LADIESWEAR                    92556\n",
       "HOME CARE                     92556\n",
       "HOME AND KITCHEN II           92556\n",
       "BABY CARE                     92556\n",
       "HOME AND KITCHEN I            92556\n",
       "HARDWARE                      92556\n",
       "GROCERY II                    92556\n",
       "GROCERY I                     92556\n",
       "FROZEN FOODS                  92556\n",
       "EGGS                          92556\n",
       "DELI                          92556\n",
       "DAIRY                         92556\n",
       "CLEANING                      92556\n",
       "CELEBRATION                   92556\n",
       "BREAD/BAKERY                  92556\n",
       "BOOKS                         92556\n",
       "BEVERAGES                     92556\n",
       "BEAUTY                        92556\n",
       "SEAFOOD                       92556\n",
       "Name: count, dtype: int64"
      ]
     },
     "execution_count": 8,
     "metadata": {},
     "output_type": "execute_result"
    }
   ],
   "source": [
    "train.family.value_counts()"
   ]
  },
  {
   "cell_type": "code",
   "execution_count": 9,
   "id": "ffba4503-f1e3-4b78-8600-678bbc50255e",
   "metadata": {},
   "outputs": [
    {
     "data": {
      "text/plain": [
       "city\n",
       "Quito            1018116\n",
       "Guayaquil         452496\n",
       "Santo Domingo     169686\n",
       "Cuenca            169686\n",
       "Latacunga         113124\n",
       "Manta             113124\n",
       "Machala           113124\n",
       "Ambato            113124\n",
       "Quevedo            56562\n",
       "Esmeraldas         56562\n",
       "Loja               56562\n",
       "Libertad           56562\n",
       "Playas             56562\n",
       "Daule              56562\n",
       "Babahoyo           56562\n",
       "Cayambe            56562\n",
       "Salinas            56562\n",
       "Puyo               56562\n",
       "Guaranda           56562\n",
       "Ibarra             56562\n",
       "Riobamba           56562\n",
       "El Carmen          56562\n",
       "Name: count, dtype: int64"
      ]
     },
     "execution_count": 9,
     "metadata": {},
     "output_type": "execute_result"
    }
   ],
   "source": [
    "train.city.value_counts()"
   ]
  },
  {
   "cell_type": "code",
   "execution_count": 10,
   "id": "1f1b0caf-f671-41c7-9958-3c9aca0ede62",
   "metadata": {},
   "outputs": [
    {
     "data": {
      "text/plain": [
       "type_x\n",
       "D    1018116\n",
       "C     848430\n",
       "A     509058\n",
       "B     452496\n",
       "E     226248\n",
       "Name: count, dtype: int64"
      ]
     },
     "execution_count": 10,
     "metadata": {},
     "output_type": "execute_result"
    }
   ],
   "source": [
    "train.type_x.value_counts()"
   ]
  },
  {
   "cell_type": "code",
   "execution_count": 11,
   "id": "67f99b79-de14-42c3-92aa-a659ccadecb2",
   "metadata": {},
   "outputs": [
    {
     "data": {
      "text/plain": [
       "state\n",
       "Pichincha                         1074678\n",
       "Guayas                             622182\n",
       "Santo Domingo de los Tsachilas     169686\n",
       "Azuay                              169686\n",
       "Manabi                             169686\n",
       "Cotopaxi                           113124\n",
       "Tungurahua                         113124\n",
       "Los Rios                           113124\n",
       "El Oro                             113124\n",
       "Chimborazo                          56562\n",
       "Imbabura                            56562\n",
       "Bolivar                             56562\n",
       "Pastaza                             56562\n",
       "Santa Elena                         56562\n",
       "Loja                                56562\n",
       "Esmeraldas                          56562\n",
       "Name: count, dtype: int64"
      ]
     },
     "execution_count": 11,
     "metadata": {},
     "output_type": "execute_result"
    }
   ],
   "source": [
    "train.state.value_counts()"
   ]
  },
  {
   "cell_type": "code",
   "execution_count": 12,
   "id": "a0ced513-a0ce-47aa-a0db-6358b08e3421",
   "metadata": {},
   "outputs": [],
   "source": [
    "# One-hot encoding for 'type_x'\n",
    "train = pd.get_dummies(train, columns=['type_x'], drop_first=True)\n",
    "\n",
    "# Frequency encoding for 'family'\n",
    "family_freq = train['family'].value_counts() / len(train)\n",
    "train['family'] = train['family'].map(family_freq)\n",
    "\n",
    "# Frequency encoding for 'city'\n",
    "city_freq = train['city'].value_counts() / len(train)\n",
    "train['city'] = train['city'].map(city_freq)\n",
    "\n",
    "# Frequency encoding for 'state'\n",
    "state_freq = train['state'].value_counts() / len(train)\n",
    "train['state'] = train['state'].map(state_freq)"
   ]
  },
  {
   "cell_type": "code",
   "execution_count": 13,
   "id": "a57966fc-1c7f-4243-af89-0b6410c9deef",
   "metadata": {},
   "outputs": [
    {
     "name": "stdout",
     "output_type": "stream",
     "text": [
      "<class 'pandas.core.frame.DataFrame'>\n",
      "RangeIndex: 3054348 entries, 0 to 3054347\n",
      "Data columns (total 20 columns):\n",
      " #   Column            Dtype         \n",
      "---  ------            -----         \n",
      " 0   id                int64         \n",
      " 1   date              datetime64[ns]\n",
      " 2   store_nbr         int64         \n",
      " 3   family            float64       \n",
      " 4   sales             float64       \n",
      " 5   onpromotion       int64         \n",
      " 6   city              float64       \n",
      " 7   state             float64       \n",
      " 8   cluster           int64         \n",
      " 9   dcoilwtico        float64       \n",
      " 10  type_y            object        \n",
      " 11  locale            object        \n",
      " 12  locale_name       object        \n",
      " 13  description       object        \n",
      " 14  transferred       object        \n",
      " 15  is_holiday_event  bool          \n",
      " 16  type_x_B          bool          \n",
      " 17  type_x_C          bool          \n",
      " 18  type_x_D          bool          \n",
      " 19  type_x_E          bool          \n",
      "dtypes: bool(5), datetime64[ns](1), float64(5), int64(4), object(5)\n",
      "memory usage: 364.1+ MB\n"
     ]
    }
   ],
   "source": [
    "train.info()"
   ]
  },
  {
   "cell_type": "code",
   "execution_count": 14,
   "id": "a7feff65-a104-4ffd-8532-f5fe6bd4c6a5",
   "metadata": {},
   "outputs": [
    {
     "data": {
      "text/html": [
       "<div>\n",
       "<style scoped>\n",
       "    .dataframe tbody tr th:only-of-type {\n",
       "        vertical-align: middle;\n",
       "    }\n",
       "\n",
       "    .dataframe tbody tr th {\n",
       "        vertical-align: top;\n",
       "    }\n",
       "\n",
       "    .dataframe thead th {\n",
       "        text-align: right;\n",
       "    }\n",
       "</style>\n",
       "<table border=\"1\" class=\"dataframe\">\n",
       "  <thead>\n",
       "    <tr style=\"text-align: right;\">\n",
       "      <th></th>\n",
       "      <th>id</th>\n",
       "      <th>date</th>\n",
       "      <th>store_nbr</th>\n",
       "      <th>family</th>\n",
       "      <th>sales</th>\n",
       "      <th>onpromotion</th>\n",
       "      <th>city</th>\n",
       "      <th>state</th>\n",
       "      <th>cluster</th>\n",
       "      <th>dcoilwtico</th>\n",
       "      <th>type_y</th>\n",
       "      <th>locale</th>\n",
       "      <th>locale_name</th>\n",
       "      <th>description</th>\n",
       "      <th>transferred</th>\n",
       "      <th>is_holiday_event</th>\n",
       "      <th>type_x_B</th>\n",
       "      <th>type_x_C</th>\n",
       "      <th>type_x_D</th>\n",
       "      <th>type_x_E</th>\n",
       "    </tr>\n",
       "  </thead>\n",
       "  <tbody>\n",
       "    <tr>\n",
       "      <th>0</th>\n",
       "      <td>0</td>\n",
       "      <td>2013-01-01</td>\n",
       "      <td>1</td>\n",
       "      <td>0.030303</td>\n",
       "      <td>0.0</td>\n",
       "      <td>0</td>\n",
       "      <td>0.333333</td>\n",
       "      <td>0.351852</td>\n",
       "      <td>13</td>\n",
       "      <td>93.14</td>\n",
       "      <td>Holiday</td>\n",
       "      <td>National</td>\n",
       "      <td>Ecuador</td>\n",
       "      <td>Primer dia del ano</td>\n",
       "      <td>False</td>\n",
       "      <td>True</td>\n",
       "      <td>False</td>\n",
       "      <td>False</td>\n",
       "      <td>True</td>\n",
       "      <td>False</td>\n",
       "    </tr>\n",
       "    <tr>\n",
       "      <th>1</th>\n",
       "      <td>1</td>\n",
       "      <td>2013-01-01</td>\n",
       "      <td>1</td>\n",
       "      <td>0.030303</td>\n",
       "      <td>0.0</td>\n",
       "      <td>0</td>\n",
       "      <td>0.333333</td>\n",
       "      <td>0.351852</td>\n",
       "      <td>13</td>\n",
       "      <td>93.14</td>\n",
       "      <td>Holiday</td>\n",
       "      <td>National</td>\n",
       "      <td>Ecuador</td>\n",
       "      <td>Primer dia del ano</td>\n",
       "      <td>False</td>\n",
       "      <td>True</td>\n",
       "      <td>False</td>\n",
       "      <td>False</td>\n",
       "      <td>True</td>\n",
       "      <td>False</td>\n",
       "    </tr>\n",
       "    <tr>\n",
       "      <th>2</th>\n",
       "      <td>2</td>\n",
       "      <td>2013-01-01</td>\n",
       "      <td>1</td>\n",
       "      <td>0.030303</td>\n",
       "      <td>0.0</td>\n",
       "      <td>0</td>\n",
       "      <td>0.333333</td>\n",
       "      <td>0.351852</td>\n",
       "      <td>13</td>\n",
       "      <td>93.14</td>\n",
       "      <td>Holiday</td>\n",
       "      <td>National</td>\n",
       "      <td>Ecuador</td>\n",
       "      <td>Primer dia del ano</td>\n",
       "      <td>False</td>\n",
       "      <td>True</td>\n",
       "      <td>False</td>\n",
       "      <td>False</td>\n",
       "      <td>True</td>\n",
       "      <td>False</td>\n",
       "    </tr>\n",
       "    <tr>\n",
       "      <th>3</th>\n",
       "      <td>3</td>\n",
       "      <td>2013-01-01</td>\n",
       "      <td>1</td>\n",
       "      <td>0.030303</td>\n",
       "      <td>0.0</td>\n",
       "      <td>0</td>\n",
       "      <td>0.333333</td>\n",
       "      <td>0.351852</td>\n",
       "      <td>13</td>\n",
       "      <td>93.14</td>\n",
       "      <td>Holiday</td>\n",
       "      <td>National</td>\n",
       "      <td>Ecuador</td>\n",
       "      <td>Primer dia del ano</td>\n",
       "      <td>False</td>\n",
       "      <td>True</td>\n",
       "      <td>False</td>\n",
       "      <td>False</td>\n",
       "      <td>True</td>\n",
       "      <td>False</td>\n",
       "    </tr>\n",
       "    <tr>\n",
       "      <th>4</th>\n",
       "      <td>4</td>\n",
       "      <td>2013-01-01</td>\n",
       "      <td>1</td>\n",
       "      <td>0.030303</td>\n",
       "      <td>0.0</td>\n",
       "      <td>0</td>\n",
       "      <td>0.333333</td>\n",
       "      <td>0.351852</td>\n",
       "      <td>13</td>\n",
       "      <td>93.14</td>\n",
       "      <td>Holiday</td>\n",
       "      <td>National</td>\n",
       "      <td>Ecuador</td>\n",
       "      <td>Primer dia del ano</td>\n",
       "      <td>False</td>\n",
       "      <td>True</td>\n",
       "      <td>False</td>\n",
       "      <td>False</td>\n",
       "      <td>True</td>\n",
       "      <td>False</td>\n",
       "    </tr>\n",
       "  </tbody>\n",
       "</table>\n",
       "</div>"
      ],
      "text/plain": [
       "   id       date  store_nbr    family  sales  onpromotion      city     state  \\\n",
       "0   0 2013-01-01          1  0.030303    0.0            0  0.333333  0.351852   \n",
       "1   1 2013-01-01          1  0.030303    0.0            0  0.333333  0.351852   \n",
       "2   2 2013-01-01          1  0.030303    0.0            0  0.333333  0.351852   \n",
       "3   3 2013-01-01          1  0.030303    0.0            0  0.333333  0.351852   \n",
       "4   4 2013-01-01          1  0.030303    0.0            0  0.333333  0.351852   \n",
       "\n",
       "   cluster  dcoilwtico   type_y    locale locale_name         description  \\\n",
       "0       13       93.14  Holiday  National     Ecuador  Primer dia del ano   \n",
       "1       13       93.14  Holiday  National     Ecuador  Primer dia del ano   \n",
       "2       13       93.14  Holiday  National     Ecuador  Primer dia del ano   \n",
       "3       13       93.14  Holiday  National     Ecuador  Primer dia del ano   \n",
       "4       13       93.14  Holiday  National     Ecuador  Primer dia del ano   \n",
       "\n",
       "  transferred  is_holiday_event  type_x_B  type_x_C  type_x_D  type_x_E  \n",
       "0       False              True     False     False      True     False  \n",
       "1       False              True     False     False      True     False  \n",
       "2       False              True     False     False      True     False  \n",
       "3       False              True     False     False      True     False  \n",
       "4       False              True     False     False      True     False  "
      ]
     },
     "execution_count": 14,
     "metadata": {},
     "output_type": "execute_result"
    }
   ],
   "source": [
    "train.head()"
   ]
  },
  {
   "cell_type": "code",
   "execution_count": 15,
   "id": "ee2e4a90-39c7-4beb-a305-5263d2399dce",
   "metadata": {},
   "outputs": [
    {
     "data": {
      "text/plain": [
       "type_y\n",
       "None          2551824\n",
       "Holiday        304722\n",
       "Event           99792\n",
       "Additional      67716\n",
       "Transfer        16038\n",
       "Work Day         8910\n",
       "Bridge           5346\n",
       "Name: count, dtype: int64"
      ]
     },
     "execution_count": 15,
     "metadata": {},
     "output_type": "execute_result"
    }
   ],
   "source": [
    "train.type_y.value_counts()"
   ]
  },
  {
   "cell_type": "code",
   "execution_count": 16,
   "id": "63892da5-7745-4253-bab2-ea219d39f705",
   "metadata": {},
   "outputs": [
    {
     "data": {
      "text/plain": [
       "locale\n",
       "None        2551824\n",
       "National     261954\n",
       "Local        208494\n",
       "Regional      32076\n",
       "Name: count, dtype: int64"
      ]
     },
     "execution_count": 16,
     "metadata": {},
     "output_type": "execute_result"
    }
   ],
   "source": [
    "train.locale.value_counts()"
   ]
  },
  {
   "cell_type": "code",
   "execution_count": 17,
   "id": "f97a3e01-90f1-4b12-bc58-2a9e61337e8d",
   "metadata": {},
   "outputs": [
    {
     "data": {
      "text/plain": [
       "locale_name\n",
       "None                              2551824\n",
       "Ecuador                            261954\n",
       "Guayaquil                           19602\n",
       "Riobamba                            17820\n",
       "Guaranda                            16038\n",
       "Latacunga                           16038\n",
       "Quito                               14256\n",
       "Ambato                              14256\n",
       "Cuenca                              10692\n",
       "Esmeraldas                           8910\n",
       "Cayambe                              8910\n",
       "Santo Domingo                        8910\n",
       "El Carmen                            8910\n",
       "Machala                              8910\n",
       "Imbabura                             8910\n",
       "Puyo                                 8910\n",
       "Libertad                             8910\n",
       "Cotopaxi                             8910\n",
       "Manta                                8910\n",
       "Ibarra                               7128\n",
       "Quevedo                              7128\n",
       "Santo Domingo de los Tsachilas       7128\n",
       "Santa Elena                          7128\n",
       "Loja                                 7128\n",
       "Salinas                              7128\n",
       "Name: count, dtype: int64"
      ]
     },
     "execution_count": 17,
     "metadata": {},
     "output_type": "execute_result"
    }
   ],
   "source": [
    "train.locale_name.value_counts()"
   ]
  },
  {
   "cell_type": "code",
   "execution_count": 18,
   "id": "dfbea460-755d-4f74-af5c-c2e39d8e00c1",
   "metadata": {},
   "outputs": [
    {
     "data": {
      "text/plain": [
       "description\n",
       "None                           2551824\n",
       "Carnaval                         17820\n",
       "Fundacion de Cuenca              10692\n",
       "Primer dia del ano                8910\n",
       "Cantonizacion de Guaranda         8910\n",
       "                                ...   \n",
       "Terremoto Manabi+6                1782\n",
       "Terremoto Manabi+7                1782\n",
       "Terremoto Manabi+8                1782\n",
       "Terremoto Manabi+9                1782\n",
       "Traslado Primer dia del ano       1782\n",
       "Name: count, Length: 102, dtype: int64"
      ]
     },
     "execution_count": 18,
     "metadata": {},
     "output_type": "execute_result"
    }
   ],
   "source": [
    "train.description.value_counts()"
   ]
  },
  {
   "cell_type": "code",
   "execution_count": 19,
   "id": "9c47b2a7-7e74-425d-a8ea-cd537de314d4",
   "metadata": {},
   "outputs": [
    {
     "data": {
      "text/plain": [
       "transferred\n",
       "None     2551824\n",
       "False     486486\n",
       "True       16038\n",
       "Name: count, dtype: int64"
      ]
     },
     "execution_count": 19,
     "metadata": {},
     "output_type": "execute_result"
    }
   ],
   "source": [
    "train.transferred.value_counts()"
   ]
  },
  {
   "cell_type": "code",
   "execution_count": 20,
   "id": "67223df7-15c5-4a06-b486-f99eb3713f13",
   "metadata": {},
   "outputs": [],
   "source": [
    "# One-hot encoding\n",
    "one_hot_columns = ['type_y', 'locale']\n",
    "train = pd.get_dummies(train, columns=one_hot_columns, drop_first=True)\n",
    "\n",
    "# Frequency encoding for 'locale_name'\n",
    "locale_name_freq = train['locale_name'].value_counts() / len(train)\n",
    "train['locale_name'] = train['locale_name'].map(locale_name_freq)\n",
    "\n",
    "# Frequency encoding for 'description'\n",
    "description_freq = train['description'].value_counts() / len(train)\n",
    "train['description'] = train['description'].map(description_freq)"
   ]
  },
  {
   "cell_type": "code",
   "execution_count": 21,
   "id": "39e38f6b-4c5c-4a60-a21c-b71dde08e420",
   "metadata": {},
   "outputs": [
    {
     "name": "stdout",
     "output_type": "stream",
     "text": [
      "<class 'pandas.core.frame.DataFrame'>\n",
      "RangeIndex: 3054348 entries, 0 to 3054347\n",
      "Data columns (total 27 columns):\n",
      " #   Column            Dtype         \n",
      "---  ------            -----         \n",
      " 0   id                int64         \n",
      " 1   date              datetime64[ns]\n",
      " 2   store_nbr         int64         \n",
      " 3   family            float64       \n",
      " 4   sales             float64       \n",
      " 5   onpromotion       int64         \n",
      " 6   city              float64       \n",
      " 7   state             float64       \n",
      " 8   cluster           int64         \n",
      " 9   dcoilwtico        float64       \n",
      " 10  locale_name       float64       \n",
      " 11  description       float64       \n",
      " 12  transferred       object        \n",
      " 13  is_holiday_event  bool          \n",
      " 14  type_x_B          bool          \n",
      " 15  type_x_C          bool          \n",
      " 16  type_x_D          bool          \n",
      " 17  type_x_E          bool          \n",
      " 18  type_y_Bridge     bool          \n",
      " 19  type_y_Event      bool          \n",
      " 20  type_y_Holiday    bool          \n",
      " 21  type_y_None       bool          \n",
      " 22  type_y_Transfer   bool          \n",
      " 23  type_y_Work Day   bool          \n",
      " 24  locale_National   bool          \n",
      " 25  locale_None       bool          \n",
      " 26  locale_Regional   bool          \n",
      "dtypes: bool(14), datetime64[ns](1), float64(7), int64(4), object(1)\n",
      "memory usage: 343.7+ MB\n"
     ]
    }
   ],
   "source": [
    "train.info()"
   ]
  },
  {
   "cell_type": "code",
   "execution_count": 22,
   "id": "dce94292-8ae5-41bf-a72e-25cefdd3776a",
   "metadata": {},
   "outputs": [],
   "source": [
    "def preprocessing(df):\n",
    "    '''Transforms the given dataset into encoded one.'''\n",
    "    \n",
    "    # One-hot encoding for 'type_x'\n",
    "    df = pd.get_dummies(df, columns=['type_x'], drop_first=True)\n",
    "\n",
    "    # Frequency encoding for 'family'\n",
    "    family_freq = df['family'].value_counts() / len(df)\n",
    "    df['family'] = df['family'].map(family_freq)\n",
    "\n",
    "    # Frequency encoding for 'city'\n",
    "    city_freq = df['city'].value_counts() / len(df)\n",
    "    df['city'] = df['city'].map(city_freq)\n",
    "\n",
    "    # Frequency encoding for 'state'\n",
    "    state_freq = df['state'].value_counts() / len(df)\n",
    "    df['state'] = df['state'].map(state_freq)\n",
    "\n",
    "    # Forward fill or interpolate missing oil prices\n",
    "    df['dcoilwtico'] = df['dcoilwtico'].bfill().ffill()  # or df['dcoilwtico'].interpolate()\n",
    "\n",
    "    # Handling holidays/events columns\n",
    "    for col in ['type_y', 'locale', 'locale_name', 'description', 'transferred']:\n",
    "        df[col] = df[col].fillna('None')\n",
    "\n",
    "    # Creating a binary feature for holiday/event\n",
    "    df['is_holiday_event'] = df['type_y'] != 'None'\n",
    "\n",
    "    # One-hot encoding\n",
    "    one_hot_columns = ['type_y', 'locale']\n",
    "    df = pd.get_dummies(df, columns=one_hot_columns, drop_first=True)\n",
    "\n",
    "    # Frequency encoding for 'locale_name'\n",
    "    locale_name_freq = df['locale_name'].value_counts() / len(df)\n",
    "    df['locale_name'] = df['locale_name'].map(locale_name_freq)\n",
    "\n",
    "    # Frequency encoding for 'description'\n",
    "    description_freq = df['description'].value_counts() / len(df)\n",
    "    df['description'] = df['description'].map(description_freq)\n",
    "\n",
    "    # Label encoding for 'transferred'\n",
    "    df['transferred'] = df['transferred'].map({'None': -1, 'False': 0, 'True': 1})  # -1 for 'None'\n",
    "\n",
    "    return df"
   ]
  },
  {
   "cell_type": "code",
   "execution_count": 23,
   "id": "0920dabc-2918-4ebb-95d7-2f685cd3ae07",
   "metadata": {},
   "outputs": [
    {
     "data": {
      "text/plain": [
       "transferred\n",
       "None     2551824\n",
       "False     486486\n",
       "True       16038\n",
       "Name: count, dtype: int64"
      ]
     },
     "execution_count": 23,
     "metadata": {},
     "output_type": "execute_result"
    }
   ],
   "source": [
    "train.transferred.value_counts()"
   ]
  },
  {
   "cell_type": "code",
   "execution_count": 24,
   "id": "444d0312-19b1-433c-b639-0c40c55df402",
   "metadata": {},
   "outputs": [
    {
     "name": "stderr",
     "output_type": "stream",
     "text": [
      "C:\\Users\\pwrxn\\AppData\\Local\\Temp\\ipykernel_22484\\180067380.py:7: FutureWarning: A value is trying to be set on a copy of a DataFrame or Series through chained assignment using an inplace method.\n",
      "The behavior will change in pandas 3.0. This inplace method will never work because the intermediate object on which we are setting values always behaves as a copy.\n",
      "\n",
      "For example, when doing 'df[col].method(value, inplace=True)', try using 'df.method({col: value}, inplace=True)' or df[col] = df[col].method(value) instead, to perform the operation inplace on the original object.\n",
      "\n",
      "\n",
      "  train['transferred'].replace({'None': None}, inplace=True)\n"
     ]
    }
   ],
   "source": [
    "from sklearn.preprocessing import LabelEncoder\n",
    "\n",
    "# Initialize the label encoder\n",
    "label_encoder = LabelEncoder()\n",
    "\n",
    "# Replace 'None' with numpy NaN for proper encoding\n",
    "train['transferred'].replace({'None': None}, inplace=True)\n",
    "\n",
    "# Fit the label encoder and transform the 'transferred' column\n",
    "train['transferred'] = label_encoder.fit_transform(train['transferred'].astype(str))\n",
    "\n",
    "# If you need to transform back to the original labels later\n",
    "# labels = label_encoder.inverse_transform(train['transferred'])\n",
    "\n",
    "train['transferred'], _ = pd.factorize(train['transferred'], sort=True)\n",
    "\n",
    "# This will encode 'None', 'False', 'True' to 0, 1, 2 respectively\n",
    "# If you want 'None' to be -1, you can simply subtract 1\n",
    "train['transferred'] = train['transferred'] - 1"
   ]
  },
  {
   "cell_type": "code",
   "execution_count": 25,
   "id": "9db74f77-9f18-4740-bf70-776c9b8a2ca5",
   "metadata": {},
   "outputs": [
    {
     "data": {
      "text/plain": [
       "transferred\n",
       " 0    2551824\n",
       "-1     486486\n",
       " 1      16038\n",
       "Name: count, dtype: int64"
      ]
     },
     "execution_count": 25,
     "metadata": {},
     "output_type": "execute_result"
    }
   ],
   "source": [
    "train.transferred.value_counts()"
   ]
  },
  {
   "cell_type": "code",
   "execution_count": 26,
   "id": "bcf70dc4-7065-4c6b-92c1-705b4a714718",
   "metadata": {},
   "outputs": [],
   "source": [
    "from sklearn.ensemble import RandomForestRegressor # import RandomForestRegressor"
   ]
  },
  {
   "cell_type": "code",
   "execution_count": 27,
   "id": "f9719d56-ae67-4005-a1bb-724b8ad1f9c8",
   "metadata": {},
   "outputs": [],
   "source": [
    "X = train.drop('sales', axis=1)\n",
    "y = train['sales']"
   ]
  },
  {
   "cell_type": "code",
   "execution_count": 28,
   "id": "16c7ce99-1d18-42cf-978d-f351d62994ec",
   "metadata": {},
   "outputs": [
    {
     "data": {
      "text/plain": [
       "(              id       date  store_nbr    family  onpromotion      city  \\\n",
       " 580605    573477 2013-11-18          5  0.030303            0  0.055556   \n",
       " 457845    450717 2013-09-10          6  0.030303            0  0.333333   \n",
       " 2585113  2540563 2016-11-29         42  0.030303            8  0.055556   \n",
       " 1839313  1814365 2015-10-18         17  0.030303            0  0.333333   \n",
       " 2829206  2781397 2017-04-14          5  0.030303            9  0.055556   \n",
       " ...          ...        ...        ...       ...          ...       ...   \n",
       " 1692743  1667795 2015-07-27         54  0.030303            0  0.018519   \n",
       " 2356330  2313562 2016-07-25         23  0.030303            0  0.037037   \n",
       " 2229084  2193444 2016-05-18         53  0.030303            3  0.037037   \n",
       " 2768307  2721975 2017-03-12         33  0.030303           18  0.018519   \n",
       " 2219110  2183470 2016-05-13         23  0.030303            1  0.037037   \n",
       " \n",
       "             state  cluster  dcoilwtico  locale_name  ...  type_x_E  \\\n",
       " 580605   0.055556        4       93.03     0.835473  ...     False   \n",
       " 457845   0.351852       13      107.48     0.835473  ...     False   \n",
       " 2585113  0.055556        2       45.29     0.835473  ...     False   \n",
       " 1839313  0.351852       12       45.91     0.835473  ...     False   \n",
       " 2829206  0.055556        4       52.62     0.002917  ...     False   \n",
       " ...           ...      ...         ...          ...  ...       ...   \n",
       " 1692743  0.055556        3       47.17     0.835473  ...     False   \n",
       " 2356330  0.037037        9       42.40     0.006418  ...     False   \n",
       " 2229084  0.055556       13       48.12     0.835473  ...     False   \n",
       " 2768307  0.037037        3       47.95     0.835473  ...     False   \n",
       " 2219110  0.037037        9       46.22     0.085764  ...     False   \n",
       " \n",
       "          type_y_Bridge  type_y_Event  type_y_Holiday  type_y_None  \\\n",
       " 580605           False         False           False         True   \n",
       " 457845           False         False           False         True   \n",
       " 2585113          False         False           False         True   \n",
       " 1839313          False         False           False         True   \n",
       " 2829206          False         False            True        False   \n",
       " ...                ...           ...             ...          ...   \n",
       " 1692743          False         False           False         True   \n",
       " 2356330          False         False            True        False   \n",
       " 2229084          False         False           False         True   \n",
       " 2768307          False         False           False         True   \n",
       " 2219110          False          True           False        False   \n",
       " \n",
       "          type_y_Transfer  type_y_Work Day  locale_National  locale_None  \\\n",
       " 580605             False            False            False         True   \n",
       " 457845             False            False            False         True   \n",
       " 2585113            False            False            False         True   \n",
       " 1839313            False            False            False         True   \n",
       " 2829206            False            False            False        False   \n",
       " ...                  ...              ...              ...          ...   \n",
       " 1692743            False            False            False         True   \n",
       " 2356330            False            False            False        False   \n",
       " 2229084            False            False            False         True   \n",
       " 2768307            False            False            False         True   \n",
       " 2219110            False            False             True        False   \n",
       " \n",
       "          locale_Regional  \n",
       " 580605             False  \n",
       " 457845             False  \n",
       " 2585113            False  \n",
       " 1839313            False  \n",
       " 2829206            False  \n",
       " ...                  ...  \n",
       " 1692743            False  \n",
       " 2356330            False  \n",
       " 2229084            False  \n",
       " 2768307            False  \n",
       " 2219110            False  \n",
       " \n",
       " [2443478 rows x 26 columns],\n",
       "               id       date  store_nbr    family  onpromotion      city  \\\n",
       " 668753    659843 2014-01-07         23  0.030303            0  0.037037   \n",
       " 1267004  1250966 2014-12-05          1  0.030303            0  0.333333   \n",
       " 997442    981404 2014-07-06         45  0.030303            0  0.333333   \n",
       " 873596    864686 2014-05-02         20  0.030303            0  0.333333   \n",
       " 756145    747235 2014-02-25         25  0.030303            0  0.018519   \n",
       " ...          ...        ...        ...       ...          ...       ...   \n",
       " 475684    468556 2013-09-20          6  0.030303            0  0.333333   \n",
       " 1322714  1303112 2015-01-04         22  0.030303            0  0.018519   \n",
       " 2965722  2914044 2017-06-28         22  0.030303           68  0.018519   \n",
       " 1287101  1271063 2014-12-16         23  0.030303            0  0.037037   \n",
       " 936734    927824 2014-06-06         41  0.030303            1  0.037037   \n",
       " \n",
       "             state  cluster  dcoilwtico  locale_name  ...  type_x_E  \\\n",
       " 668753   0.037037        9       93.31     0.835473  ...     False   \n",
       " 1267004  0.351852       13       65.89     0.004667  ...     False   \n",
       " 997442   0.351852       11      104.19     0.835473  ...     False   \n",
       " 873596   0.351852        6      100.09     0.835473  ...     False   \n",
       " 756145   0.018519        1      102.20     0.835473  ...     False   \n",
       " ...           ...      ...         ...          ...  ...       ...   \n",
       " 475684   0.351852       13      104.70     0.835473  ...     False   \n",
       " 1322714  0.018519        7       50.05     0.835473  ...     False   \n",
       " 2965722  0.018519        7       44.74     0.835473  ...     False   \n",
       " 1287101  0.037037        9       55.97     0.835473  ...     False   \n",
       " 936734   0.037037        4      103.32     0.835473  ...     False   \n",
       " \n",
       "          type_y_Bridge  type_y_Event  type_y_Holiday  type_y_None  \\\n",
       " 668753           False         False           False         True   \n",
       " 1267004          False         False           False        False   \n",
       " 997442           False         False           False         True   \n",
       " 873596           False         False           False         True   \n",
       " 756145           False         False           False         True   \n",
       " ...                ...           ...             ...          ...   \n",
       " 475684           False         False           False         True   \n",
       " 1322714          False         False           False         True   \n",
       " 2965722          False         False           False         True   \n",
       " 1287101          False         False           False         True   \n",
       " 936734           False         False           False         True   \n",
       " \n",
       "          type_y_Transfer  type_y_Work Day  locale_National  locale_None  \\\n",
       " 668753             False            False            False         True   \n",
       " 1267004            False            False            False        False   \n",
       " 997442             False            False            False         True   \n",
       " 873596             False            False            False         True   \n",
       " 756145             False            False            False         True   \n",
       " ...                  ...              ...              ...          ...   \n",
       " 475684             False            False            False         True   \n",
       " 1322714            False            False            False         True   \n",
       " 2965722            False            False            False         True   \n",
       " 1287101            False            False            False         True   \n",
       " 936734             False            False            False         True   \n",
       " \n",
       "          locale_Regional  \n",
       " 668753             False  \n",
       " 1267004            False  \n",
       " 997442             False  \n",
       " 873596             False  \n",
       " 756145             False  \n",
       " ...                  ...  \n",
       " 475684             False  \n",
       " 1322714            False  \n",
       " 2965722            False  \n",
       " 1287101            False  \n",
       " 936734             False  \n",
       " \n",
       " [610870 rows x 26 columns],\n",
       " 580605      614.0\n",
       " 457845     1001.0\n",
       " 2585113     144.0\n",
       " 1839313     398.0\n",
       " 2829206     218.0\n",
       "             ...  \n",
       " 1692743     222.0\n",
       " 2356330       0.0\n",
       " 2229084       3.0\n",
       " 2768307    1845.0\n",
       " 2219110     112.0\n",
       " Name: sales, Length: 2443478, dtype: float64,\n",
       " 668753      471.000\n",
       " 1267004       1.000\n",
       " 997442        0.000\n",
       " 873596        0.000\n",
       " 756145        0.000\n",
       "              ...   \n",
       " 475684      160.000\n",
       " 1322714       0.000\n",
       " 2965722    2009.000\n",
       " 1287101       2.000\n",
       " 936734       37.125\n",
       " Name: sales, Length: 610870, dtype: float64)"
      ]
     },
     "execution_count": 28,
     "metadata": {},
     "output_type": "execute_result"
    }
   ],
   "source": [
    "X_train, X_test, y_train, y_test = train_test_split(X, y, test_size=0.2, random_state=42)\n",
    "\n",
    "X_train, X_test, y_train, y_test"
   ]
  },
  {
   "cell_type": "markdown",
   "id": "a0c8c91b-e0cb-41a6-9b63-bd6f6c0677cf",
   "metadata": {},
   "source": [
    "## Let's create a RandomForestRegressor model"
   ]
  },
  {
   "cell_type": "code",
   "execution_count": 29,
   "id": "235fc0fd-0a6b-4d96-bf21-a48b4d1d2ce7",
   "metadata": {},
   "outputs": [],
   "source": [
    "# First ensure 'date' is a datetime dtype\n",
    "X_train['date'] = pd.to_datetime(X_train['date'])\n",
    "X_test['date'] = pd.to_datetime(X_test['date'])\n",
    "\n",
    "# Now extract date features\n",
    "X_train['year'] = X_train['date'].dt.year\n",
    "X_train['month'] = X_train['date'].dt.month\n",
    "X_train['day'] = X_train['date'].dt.day\n",
    "X_train['weekday'] = X_train['date'].dt.weekday\n",
    "# ...and similarly for X_test\n",
    "X_test['year'] = X_test['date'].dt.year\n",
    "X_test['month'] = X_test['date'].dt.month\n",
    "X_test['day'] = X_test['date'].dt.day\n",
    "X_test['weekday'] = X_test['date'].dt.weekday\n",
    "# Now you can convert 'date' to timestamps if you need that representation\n",
    "# Note: This step is optional and only necessary if you want to use timestamps as features\n",
    "X_train['timestamp'] = X_train['date'].apply(lambda x: x.timestamp())\n",
    "X_test['timestamp'] = X_test['date'].apply(lambda x: x.timestamp())\n",
    "\n",
    "# Drop the original 'date' column if it's no longer needed\n",
    "X_train.drop('date', axis=1, inplace=True)\n",
    "X_test.drop('date', axis=1, inplace=True)"
   ]
  },
  {
   "cell_type": "code",
   "execution_count": 30,
   "id": "1dbef3b5-19d1-4c3a-ac46-b0e37651331e",
   "metadata": {},
   "outputs": [
    {
     "data": {
      "text/plain": [
       "0.4213338507219625"
      ]
     },
     "execution_count": 30,
     "metadata": {},
     "output_type": "execute_result"
    }
   ],
   "source": [
    "from sklearn.ensemble import GradientBoostingRegressor\n",
    "# Set the Model\n",
    "gbr = GradientBoostingRegressor()\n",
    "\n",
    "# Fit the model \n",
    "gbr.fit(X_train, y_train)\n",
    "\n",
    "# Score the model\n",
    "gbr_score = gbr.score(X_test, y_test)\n",
    "gbr_score"
   ]
  },
  {
   "cell_type": "code",
   "execution_count": null,
   "id": "bd20e20e-9ff8-4319-9d00-4af6e1aab1ba",
   "metadata": {},
   "outputs": [],
   "source": [
    "from sklearn.model_selection import RandomizedSearchCV\n",
    "\n"
   ]
  }
 ],
 "metadata": {
  "kernelspec": {
   "display_name": "Python 3 (ipykernel)",
   "language": "python",
   "name": "python3"
  },
  "language_info": {
   "codemirror_mode": {
    "name": "ipython",
    "version": 3
   },
   "file_extension": ".py",
   "mimetype": "text/x-python",
   "name": "python",
   "nbconvert_exporter": "python",
   "pygments_lexer": "ipython3",
   "version": "3.10.13"
  }
 },
 "nbformat": 4,
 "nbformat_minor": 5
}
